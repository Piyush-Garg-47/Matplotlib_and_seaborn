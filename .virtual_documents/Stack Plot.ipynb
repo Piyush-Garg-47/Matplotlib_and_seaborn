import matplotlib.pyplot as plt



activities = ["Studying" , "Playing" , "Watching Tv" , "Sleeping"] 


time_spent = [3 , 3, 2 , 9 ]

colors = [ 'blue' , 'red' , 'yellow' , 'pink']

plt.figure(figsize =(6 , 6))
plt.pie(time_spent , labels=activities , colors = colors , startangle = 90 , autopct ="%1.1f%%" )
plt.title("School going Student ")
plt.legend()
plt.axis("equal")


days = [1,2,3,4,5,6,7]
studing = [3,4,3,5,4,3,4]
playing = [2,2,1,1 ,2,3,2]
watching_tv = [2,1,2,2,1,1,1]
sleeping = [5,5,6,5,6,5,5] 

labels = ['studing' , 'playing' , 'tv' , 'sleeping']
colors = ['blue' , 'red' , 'yellow' , 'pink' ] 
plt.figure(figsize = (6,6))
plt.stackplot(days ,studing ,  playing , watching_tv  , sleeping , labels = labels , colors = colors , alpha=1)
plt.legend(loc="upper left")
plt.title("Student Time Distributiion")
plt.grid(True)
plt.xlabel("Days")
plt.ylabel("Hours")



