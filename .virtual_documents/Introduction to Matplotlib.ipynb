import matplotlib.pyplot as plt


plt.show()


plt.plot([1,2,3] , [4,5,6])


years = [1990, 1991, 1992, 1993, 1994, 1995, 1996, 1997, 1998, 1999, 
          2000, 2001, 2002, 2003, 2004, 2005, 2006, 2007, 2008, 2009, 2010]

runs = [819, 365, 1508, 969, 1789, 704, 2234, 2011, 2541, 2416,
 1903, 1907, 2133, 1294, 1727, 953, 900, 2201, 2063, 1513, 3124]

plt.plot(years , runs)


plt.plot(years , runs)
plt.xlabel("year")
plt.ylabel("Runs Scored")
plt.title("Sachin Tendulkar's  Yearly Runs")


virat_runs = [
    120, 230, 450, 560, 780, 900, 1100, 980, 1020, 1250,
    980, 1400, 1500, 1350, 1600, 1450, 1300, 1550, 1700, 1650 , 1550
]
sehwag_runs = [
    450, 600, 800, 950, 1200, 1400, 1300, 1100, 900, 1000,
    850, 700, 500, 400, 300, 200, 150, 100, 80, 50 , 40
]

plt.plot(years , virat_runs )
plt.plot(years , sehwag_runs )
plt.legend(["kohli" , "sehwag"])
plt.xlabel("year")
plt.ylabel("Runs Scored")
plt.title("performance comparesion")
plt.show()


plt.plot(years , virat_runs , 'ro--' , label="virat")
plt.plot(years , sehwag_runs , 'g^' , label="sehwag")
plt.legend()



