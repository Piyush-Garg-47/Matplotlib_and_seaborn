import matplotlib.pyplot as plt

year = [1990 , 1992 ,1994 ,1996 ,1998 , 2000 , 2003 ,2005 , 2007 , 2010]
runs = [500 ,700 ,1100 , 1500 , 1800,1200, 1700, 1300 ,900 , 1500 ]

plt.bar(year , runs)
plt.xlabel("year")
plt.ylabel("Runs Scored")
plt.title(" Sachin Tindulkar's Yearly Runs ")
plt.show()


x = ([0,1,2,3,4,5,6,7,8,9])


import numpy as np

sachin = [500 ,700 ,1100 , 1500 , 1800,1200, 1700, 1300 ,900 , 1500 ] 
sehwag = [0 , 200 , 900 , 1400 , 1600 , 1800 , 1500 , 1100 , 800 , 0 ]
kohli = [ 0 , 0 , 500 , 800 , 1100 , 1300 , 1500 , 1800 , 1900 , 2100 ]

x = np.arange(len (year))
width = 0.25



plt.bar(x - width , sachin , width = width , label = "sachin")
plt.bar(x , sehwag , width = width  , label ="sehwag")
plt.bar(x + width , kohli , width = width , label = "kohli")

plt.xlabel("years")
plt.ylabel("Runs Scored ")
plt.title("Runs Comparision " )
plt.xticks(x , year)
plt.legend()
plt.tight_layout()
plt.show()


players = ["sachin" , "sehwag" , "kohli" , "youraj"]
runs_5yrs = [500 + 700 + 1100 + 1500 + 1800  , 0 + 200 + 900 + 1400 + 1600 , 
            0 + 0 + 500 + 800 + 1100 , 300 + 600 + 800 + 1100 + 900]
plt.barh(players , runs_5yrs , color ="skyblue")
plt.xlabel("Total Runs in First 5 years")
plt.title("First 5-years Performance of Indian Batsman")
plt.tight_layout()
plt.show()



