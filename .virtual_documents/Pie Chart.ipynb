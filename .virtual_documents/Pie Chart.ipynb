import matplotlib.pyplot as plt
plt.style.use("ggplot")


labels = ["Sachin" , "Sehwag" , "Kohli" , "Youraj"]
runs = [18000 , 8000 , 12000 , 9500 ]

plt.title("Career Runs of Indian Batsman")
plt.pie(runs , labels=labels)


colors = ['#B02C13' , '#71ED37' , '#376EED' , '#ED37C9']
plt.pie(runs , labels = labels , colors = colors)


plt.pie(
    runs , 
    labels = labels , 
    colors = colors ,
    wedgeprops = {'edgecolor' : 'black' , 'linewidth' : 2 , 'linestyle' :':' , 'fill' : False})
plt.show()


explode = [ 0.1 , 0 , 0 , 0 ]
plt.pie(runs , labels = labels , explode = explode , colors = colors , shadow = True , startangle = 140 , autopct ='%1.2f%%' )
plt.title("Explode pie Example")
plt.show()



