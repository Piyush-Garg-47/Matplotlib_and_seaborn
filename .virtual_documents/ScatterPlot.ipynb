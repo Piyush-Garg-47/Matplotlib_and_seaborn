import matplotlib.pyplot as plt


study_hour = [1,2,3,4,5,6,7,8,9]
exam_score = [40 , 85 , 50 , 55 , 25 , 65 , 75 , 85 , 90 ]
social_score = [111 , 222 , 333,444, 555, 666 ,777 , 888 ,999 ]

colors = ['red' if  score < 50 else 'green' for score in exam_score]
sizes = [score *2 for score in exam_score]
plt.scatter(study_hour  , exam_score , c= social_score , s = sizes  , cmap='viridis' )
plt.colorbar(label = 'Score')
plt.grid(True)
plt.xlabel("Study Hour")
plt.title("Study Vs Marks")
plt.ylabel("Marks")
# plt.legend()


class_a_hour = [2,4,6,8]
class_a_score = [45 , 55 , 65 , 85]

class_b_hour = [1,3,5,7 , 9]
class_b_score = [40,50,60,70,90]

plt.scatter(class_a_hour , class_a_score , label = 'Class A' , color = 'blue')
plt.scatter(class_b_hour , class_b_score , label = 'Class B' , color = 'orange')

plt.title("Scatter plot of class A Vs class B")
plt.xlabel("study Hour")
plt.ylabel("Exam Score")
plt.legend()
plt.grid(True)




