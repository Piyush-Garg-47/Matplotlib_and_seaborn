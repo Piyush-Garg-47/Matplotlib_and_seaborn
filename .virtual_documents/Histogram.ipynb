import  matplotlib.pyplot as plt


data =[87, 42, 69, 15, 98, 74, 51, 36, 90, 63, 
         58, 77, 11, 93, 84, 29, 45, 68, 95, 39, 
         72, 81, 27, 53, 66, 48, 32, 97, 62, 19, 
         78, 55, 83, 40, 88, 71, 24, 59, 34, 91, 
         47, 25, 60, 99, 38, 22, 80, 65, 73, 56]

plt.hist(data  , bins = 10 , edgecolor = "black")
plt.xlabel("Marks")
plt.ylabel("Frequency")


plt.hist(data  , bins =[10 , 20 , 30 ,40 , 60 , 100] , edgecolor = "black")
plt.xlabel("Marks")
plt.ylabel("Frequency")



